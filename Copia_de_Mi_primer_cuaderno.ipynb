{
  "nbformat": 4,
  "nbformat_minor": 0,
  "metadata": {
    "colab": {
      "name": "Copia de Mi primer cuaderno.ipynb",
      "provenance": [],
      "authorship_tag": "ABX9TyOkFGzmqGwPc07rqR+1RDyR",
      "include_colab_link": true
    },
    "kernelspec": {
      "name": "python3",
      "display_name": "Python 3"
    }
  },
  "cells": [
    {
      "cell_type": "markdown",
      "metadata": {
        "id": "view-in-github",
        "colab_type": "text"
      },
      "source": [
        "<a href=\"https://colab.research.google.com/github/ANGELTALAVERA/mi1repository/blob/master/Copia_de_Mi_primer_cuaderno.ipynb\" target=\"_parent\"><img src=\"https://colab.research.google.com/assets/colab-badge.svg\" alt=\"Open In Colab\"/></a>"
      ]
    },
    {
      "cell_type": "code",
      "metadata": {
        "id": "q8zK8D0xRCAk",
        "colab_type": "code",
        "colab": {}
      },
      "source": [
        "#prueba donde se guarda el archivo\n",
        "def hola():\n",
        "  print(\"hola mundo\")"
      ],
      "execution_count": 0,
      "outputs": []
    },
    {
      "cell_type": "markdown",
      "metadata": {
        "id": "FGcypZBKTNYc",
        "colab_type": "text"
      },
      "source": [
        "# Nueva sección"
      ]
    },
    {
      "cell_type": "code",
      "metadata": {
        "id": "8PsU7auLRpLi",
        "colab_type": "code",
        "outputId": "688ae6fb-c86d-4515-d7d9-a35250706e88",
        "colab": {
          "base_uri": "https://localhost:8080/",
          "height": 34
        }
      },
      "source": [
        "hola()"
      ],
      "execution_count": 0,
      "outputs": [
        {
          "output_type": "stream",
          "text": [
            "hola mundo\n"
          ],
          "name": "stdout"
        }
      ]
    }
  ]
}